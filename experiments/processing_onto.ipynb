{
 "cells": [
  {
   "cell_type": "code",
   "execution_count": 2,
   "id": "adequate-bulgarian",
   "metadata": {},
   "outputs": [],
   "source": [
    "import json"
   ]
  },
  {
   "cell_type": "code",
   "execution_count": 1,
   "id": "composed-blood",
   "metadata": {},
   "outputs": [
    {
     "name": "stdout",
     "output_type": "stream",
     "text": [
      "euclidean_dot_emb_dim_30  hyperbolic_dot_emb_dim_30\r\n"
     ]
    }
   ],
   "source": [
    "!ls results/anatomy"
   ]
  },
  {
   "cell_type": "code",
   "execution_count": 46,
   "id": "young-elimination",
   "metadata": {},
   "outputs": [
    {
     "name": "stdout",
     "output_type": "stream",
     "text": [
      "emb_dim 30\n",
      "\teuclidean $46.9 \\pm 9.4$\n",
      "\thyperbolic $77.3 \\pm 2.9$\n",
      "emb_dim 60\n",
      "\teuclidean $48.7 \\pm 7.1$\n",
      "\thyperbolic $79.7 \\pm 2.2$\n",
      "emb_dim 100\n",
      "\teuclidean $51.5 \\pm 4.6$\n",
      "\thyperbolic $82.6 \\pm 1.4$\n",
      "emb_dim 200\n",
      "\teuclidean $55.8 \\pm 1.9$\n",
      "\thyperbolic $83.2 \\pm 0.9$\n"
     ]
    }
   ],
   "source": [
    "name = 'anatomy'\n",
    "exp_name = '_3_layers'\n",
    "# exp_name = ''\n",
    "sim = 'sqdist'\n",
    "res_dict = {}\n",
    "\n",
    "for emb_dim in [30, 60, 100, 200]:\n",
    "    print(f'emb_dim {emb_dim}')\n",
    "    for space in ['euclidean', 'hyperbolic']:\n",
    "        res_dict[emb_dim] = {}\n",
    "        \n",
    "        try:\n",
    "            with open(f'results/{name}/{space}_{sim}_emb_dim_{emb_dim}{exp_name}_5_folds/5_CV/assessment_results.json') as fp:\n",
    "                res = json.load(fp)\n",
    "                print(f'\\t{space} ${res[\"avg_TS_hits1\"]*100:.01f} \\pm {res[\"std_TR_hits1\"]*100:.01f}$')\n",
    "                res_dict[emb_dim][space] = f'${res[\"avg_TS_hits1\"]*100:.01f} \\pm {res[\"std_TR_hits1\"]*100:.01f}$'\n",
    "        except Exception as e:\n",
    "            print(e)\n",
    "                \n",
    "            \n",
    "with open(f'results/fin/{name}_{sim}_{exp_name}.json', 'w') as fp:\n",
    "    json.dump(res_dict, fp)"
   ]
  },
  {
   "cell_type": "code",
   "execution_count": 17,
   "id": "included-progress",
   "metadata": {},
   "outputs": [
    {
     "name": "stdout",
     "output_type": "stream",
     "text": [
      "euclidean_dot_emb_dim_100  hyperbolic_dot_emb_dim_100\r\n",
      "euclidean_dot_emb_dim_200  hyperbolic_dot_emb_dim_200\r\n",
      "euclidean_dot_emb_dim_30   hyperbolic_dot_emb_dim_30\r\n",
      "euclidean_dot_emb_dim_60   hyperbolic_dot_emb_dim_60\r\n"
     ]
    }
   ],
   "source": [
    "!ls results/anatomy/"
   ]
  },
  {
   "cell_type": "code",
   "execution_count": 1,
   "id": "responsible-synthesis",
   "metadata": {
    "collapsed": true
   },
   "outputs": [
    {
     "name": "stdout",
     "output_type": "stream",
     "text": [
      "emb_dim 30\n"
     ]
    },
    {
     "ename": "NameError",
     "evalue": "name 'json' is not defined",
     "output_type": "error",
     "traceback": [
      "\u001b[0;31m---------------------------------------------------------------------------\u001b[0m",
      "\u001b[0;31mNameError\u001b[0m                                 Traceback (most recent call last)",
      "\u001b[0;32m<ipython-input-1-b437ccf318b3>\u001b[0m in \u001b[0;36m<module>\u001b[0;34m\u001b[0m\n\u001b[1;32m      8\u001b[0m         \u001b[0;32mfor\u001b[0m \u001b[0mi\u001b[0m \u001b[0;32min\u001b[0m \u001b[0;34m[\u001b[0m\u001b[0;36m1\u001b[0m\u001b[0;34m,\u001b[0m \u001b[0;36m3\u001b[0m\u001b[0;34m,\u001b[0m \u001b[0;36m5\u001b[0m\u001b[0;34m]\u001b[0m\u001b[0;34m:\u001b[0m\u001b[0;34m\u001b[0m\u001b[0;34m\u001b[0m\u001b[0m\n\u001b[1;32m      9\u001b[0m             \u001b[0;32mwith\u001b[0m \u001b[0mopen\u001b[0m\u001b[0;34m(\u001b[0m\u001b[0;34mf'results/{name}/{space}_dot_emb_dim_{emb_dim}/5_CV/FOLD_{i}/winner_config.json'\u001b[0m\u001b[0;34m,\u001b[0m \u001b[0;34m'r'\u001b[0m\u001b[0;34m)\u001b[0m \u001b[0;32mas\u001b[0m \u001b[0mfp\u001b[0m\u001b[0;34m:\u001b[0m\u001b[0;34m\u001b[0m\u001b[0;34m\u001b[0m\u001b[0m\n\u001b[0;32m---> 10\u001b[0;31m                 \u001b[0mcfg\u001b[0m \u001b[0;34m=\u001b[0m \u001b[0mjson\u001b[0m\u001b[0;34m.\u001b[0m\u001b[0mload\u001b[0m\u001b[0;34m(\u001b[0m\u001b[0mfp\u001b[0m\u001b[0;34m)\u001b[0m\u001b[0;34m\u001b[0m\u001b[0;34m\u001b[0m\u001b[0m\n\u001b[0m\u001b[1;32m     11\u001b[0m             \u001b[0mprint\u001b[0m\u001b[0;34m(\u001b[0m\u001b[0;34mf'{cfg[\"space\"], cfg[\"c\"], cfg[\"out_channels\"], cfg[\"num_layers\"]}'\u001b[0m\u001b[0;34m)\u001b[0m\u001b[0;34m\u001b[0m\u001b[0;34m\u001b[0m\u001b[0m\n\u001b[1;32m     12\u001b[0m             \u001b[0;32mwith\u001b[0m \u001b[0mopen\u001b[0m\u001b[0;34m(\u001b[0m\u001b[0;34mf'results/{name}/{space}_dot_emb_dim_{emb_dim}/5_CV/FOLD_{i}/winner_results.json'\u001b[0m\u001b[0;34m,\u001b[0m \u001b[0;34m'r'\u001b[0m\u001b[0;34m)\u001b[0m \u001b[0;32mas\u001b[0m \u001b[0mfp\u001b[0m\u001b[0;34m:\u001b[0m\u001b[0;34m\u001b[0m\u001b[0;34m\u001b[0m\u001b[0m\n",
      "\u001b[0;31mNameError\u001b[0m: name 'json' is not defined"
     ]
    }
   ],
   "source": [
    "name = 'anatomy'\n",
    "exp_name = 'emb_dim_30'\n",
    "res_dict = {}\n",
    "\n",
    "for emb_dim in [30, 60, 100, 200]:\n",
    "    print(f'emb_dim {emb_dim}')\n",
    "    for space in ['euclidean', 'hyperbolic']:\n",
    "        for i in [1, 3, 5]:\n",
    "            with open(f'results/{name}/{space}_dot_emb_dim_{emb_dim}/5_CV/FOLD_{i}/winner_config.json', 'r') as fp:\n",
    "                cfg = json.load(fp)\n",
    "            print(f'{cfg[\"space\"], cfg[\"c\"], cfg[\"out_channels\"], cfg[\"num_layers\"]}')\n",
    "            with open(f'results/{name}/{space}_dot_emb_dim_{emb_dim}/5_CV/FOLD_{i}/winner_results.json', 'r') as fp:\n",
    "                res = json.load(fp)\n",
    "            print(res['TS_hits1'])\n",
    "                \n",
    "            "
   ]
  },
  {
   "cell_type": "code",
   "execution_count": 47,
   "id": "future-polyester",
   "metadata": {},
   "outputs": [
    {
     "name": "stdout",
     "output_type": "stream",
     "text": [
      "emb_dim 30\n",
      "[Errno 2] No such file or directory: 'results/largebio/euclidean_sqdist_emb_dim_30_3_layers_5_folds/5_CV/assessment_results.json'\n",
      "\thyperbolic $41.3 \\pm 7.2$\n",
      "emb_dim 60\n",
      "\teuclidean $19.6 \\pm 8.5$\n",
      "\thyperbolic $44.8 \\pm 8.0$\n",
      "emb_dim 100\n",
      "\teuclidean $21.2 \\pm 9.2$\n",
      "\thyperbolic $45.2 \\pm 8.4$\n",
      "emb_dim 200\n",
      "\teuclidean $23.8 \\pm 12.9$\n",
      "\thyperbolic $48.4 \\pm 7.1$\n"
     ]
    }
   ],
   "source": [
    "name = 'largebio'\n",
    "exp_name = '_3_layers'\n",
    "# exp_name = ''\n",
    "sim = 'sqdist'\n",
    "res_dict = {}\n",
    "\n",
    "for emb_dim in [30, 60, 100, 200]:\n",
    "    print(f'emb_dim {emb_dim}')\n",
    "    for space in ['euclidean', 'hyperbolic']:\n",
    "        res_dict[emb_dim] = {}\n",
    "        try:\n",
    "            with open(f'results/{name}/{space}_{sim}_emb_dim_{emb_dim}{exp_name}_5_folds/5_CV/assessment_results.json') as fp:\n",
    "                res = json.load(fp)\n",
    "                print(f'\\t{space} ${res[\"avg_TS_hits1\"]*100:.01f} \\pm {res[\"std_TR_hits1\"]*100:.01f}$')\n",
    "                res_dict[emb_dim][space] = f'${res[\"avg_TS_hits1\"]*100:.01f} \\pm {res[\"std_TR_hits1\"]*100:.01f}$'\n",
    "        except Exception as e:\n",
    "            print(e)\n",
    "                \n",
    "name = 'largebio_1_layer'           \n",
    "with open(f'results/fin/{name}_{sim}_{exp_name}.json', 'w') as fp:\n",
    "    json.dump(res_dict, fp)"
   ]
  },
  {
   "cell_type": "code",
   "execution_count": null,
   "id": "shaped-recovery",
   "metadata": {},
   "outputs": [],
   "source": []
  }
 ],
 "metadata": {
  "kernelspec": {
   "display_name": "Python 3",
   "language": "python",
   "name": "python3"
  },
  "language_info": {
   "codemirror_mode": {
    "name": "ipython",
    "version": 3
   },
   "file_extension": ".py",
   "mimetype": "text/x-python",
   "name": "python",
   "nbconvert_exporter": "python",
   "pygments_lexer": "ipython3",
   "version": "3.7.9"
  }
 },
 "nbformat": 4,
 "nbformat_minor": 5
}
