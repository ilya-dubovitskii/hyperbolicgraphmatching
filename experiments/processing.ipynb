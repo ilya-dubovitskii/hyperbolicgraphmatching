{
 "cells": [
  {
   "cell_type": "code",
   "execution_count": 16,
   "id": "authorized-citizenship",
   "metadata": {},
   "outputs": [],
   "source": [
    "import json"
   ]
  },
  {
   "cell_type": "code",
   "execution_count": 17,
   "id": "exclusive-athens",
   "metadata": {},
   "outputs": [
    {
     "name": "stdout",
     "output_type": "stream",
     "text": [
      "5_folds_second_run_dot.json  en_zh_euclidean.log   processing.ipynb\r\n",
      "convenience.ipynb\t     en_zh_hyperbolic.log  results\r\n",
      "en_fr_euclidean.log\t     fr_en_euclidean.log   single_graph_experiment.py\r\n",
      "en_fr_hyperbolic.log\t     fr_en_hyperbolic.log  zh_en_euclidean.log\r\n",
      "en_ja_euclidean.log\t     ja_en_euclidean.log   zh_en_hyperbolic.log\r\n",
      "en_ja_hyperbolic.log\t     ja_en_hyperbolic.log\r\n"
     ]
    }
   ],
   "source": [
    "!ls"
   ]
  },
  {
   "cell_type": "code",
   "execution_count": 18,
   "id": "english-mechanism",
   "metadata": {},
   "outputs": [
    {
     "name": "stdout",
     "output_type": "stream",
     "text": [
      "en_fr\n",
      "\teuclidean 0.783 +- 0.335\n",
      "\thyperbolic 0.889 +- 0.081\n",
      "fr_en\n",
      "\teuclidean 0.983 +- 0.013\n",
      "\thyperbolic 0.894 +- 0.090\n",
      "en_zh\n",
      "\teuclidean 0.984 +- 0.012\n",
      "\thyperbolic 0.915 +- 0.071\n",
      "zh_en\n",
      "\teuclidean 0.985 +- 0.011\n",
      "\thyperbolic 0.887 +- 0.074\n",
      "en_ja\n",
      "\teuclidean 0.675 +- 0.432\n",
      "\thyperbolic 0.916 +- 0.061\n",
      "ja_en\n",
      "\teuclidean 0.984 +- 0.012\n",
      "\thyperbolic 0.920 +- 0.064\n"
     ]
    }
   ],
   "source": [
    "name = '12_folds_first_run_dot'\n",
    "res_dict = {}\n",
    "for cat in ['en_fr', 'fr_en', 'en_zh', 'zh_en', 'en_ja', 'ja_en']:\n",
    "    print(cat)\n",
    "    for space in ['euclidean', 'hyperbolic']:\n",
    "        try:\n",
    "            with open(f'results/{cat}_{space}_dot/12_CV/assessment_results.json') as fp:\n",
    "                res = json.load(fp)\n",
    "                print(f'\\t{space} {res[\"avg_TS_hits1\"]:.03f} +- {res[\"std_TS_hits1\"]:.03f}')\n",
    "                res_dict[f'{cat}_{space}'] = f'{res[\"avg_TS_hits1\"]:.03f} +- {res[\"std_TS_hits1\"]:.03f}'\n",
    "                \n",
    "        except Exception as e:\n",
    "            print(e)\n",
    "            \n",
    "with open(f'{name}.json', 'w') as fp:\n",
    "    json.dump(res_dict, fp)"
   ]
  }
 ],
 "metadata": {
  "kernelspec": {
   "display_name": "Python 3",
   "language": "python",
   "name": "python3"
  },
  "language_info": {
   "codemirror_mode": {
    "name": "ipython",
    "version": 3
   },
   "file_extension": ".py",
   "mimetype": "text/x-python",
   "name": "python",
   "nbconvert_exporter": "python",
   "pygments_lexer": "ipython3",
   "version": "3.7.9"
  }
 },
 "nbformat": 4,
 "nbformat_minor": 5
}
