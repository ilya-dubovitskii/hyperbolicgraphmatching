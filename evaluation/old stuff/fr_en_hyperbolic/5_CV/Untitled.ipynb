{
 "cells": [
  {
   "cell_type": "code",
   "execution_count": 4,
   "metadata": {},
   "outputs": [],
   "source": [
    "import pickle as pkl"
   ]
  },
  {
   "cell_type": "code",
   "execution_count": 5,
   "metadata": {},
   "outputs": [],
   "source": [
    "with open('assessment_results.pkl', 'rb') as fp:\n",
    "    res = pkl.load(fp)"
   ]
  },
  {
   "cell_type": "code",
   "execution_count": 6,
   "metadata": {},
   "outputs": [
    {
     "data": {
      "text/plain": [
       "{'avg_TR_hits1': 0.9378785691555791,\n",
       " 'std_TR_hits1': 0.01302547513786298,\n",
       " 'avg_TS_hits1': 0.953754019137022,\n",
       " 'std_TS_hits1': 0.012790056719022547,\n",
       " 'avg_TR_hits10': 0.793649309239197,\n",
       " 'std_TR_hits10': 0.021057683127633484,\n",
       " 'avg_TS_hits10': 0.8606381945567338,\n",
       " 'std_TS_hits10': 0.0161913485976576}"
      ]
     },
     "execution_count": 6,
     "metadata": {},
     "output_type": "execute_result"
    }
   ],
   "source": [
    "res"
   ]
  }
 ],
 "metadata": {
  "kernelspec": {
   "display_name": "Python 3",
   "language": "python",
   "name": "python3"
  },
  "language_info": {
   "codemirror_mode": {
    "name": "ipython",
    "version": 3
   },
   "file_extension": ".py",
   "mimetype": "text/x-python",
   "name": "python",
   "nbconvert_exporter": "python",
   "pygments_lexer": "ipython3",
   "version": "3.7.7"
  }
 },
 "nbformat": 4,
 "nbformat_minor": 5
}
