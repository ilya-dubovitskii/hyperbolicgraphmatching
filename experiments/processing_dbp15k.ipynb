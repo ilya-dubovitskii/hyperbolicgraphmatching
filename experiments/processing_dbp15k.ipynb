{
 "cells": [
  {
   "cell_type": "code",
   "execution_count": 59,
   "id": "limited-theorem",
   "metadata": {},
   "outputs": [],
   "source": [
    "import json\n",
    "from IPython.display import display, Math"
   ]
  },
  {
   "cell_type": "code",
   "execution_count": 32,
   "id": "sensitive-quality",
   "metadata": {},
   "outputs": [
    {
     "name": "stdout",
     "output_type": "stream",
     "text": [
      "dbp15k_dot_emb_dim_100_3_layers_5_folds.json\r\n",
      "dbp15k_dot_emb_dim_100_5_folds.json\r\n",
      "dbp15k_dot_emb_dim_200_3_layers_5_folds.json\r\n",
      "dbp15k_dot_emb_dim_200_5_folds.json\r\n",
      "dbp15k_dot_emb_dim_30_3_layers_5_folds.json\r\n",
      "dbp15k_dot_emb_dim_30_5_folds.json\r\n",
      "dbp15k_dot_emb_dim_60_3_layers_5_folds.json\r\n",
      "dbp15k_dot_emb_dim_60_5_folds.json\r\n"
     ]
    }
   ],
   "source": [
    "!ls results/fin"
   ]
  },
  {
   "cell_type": "markdown",
   "id": "answering-permission",
   "metadata": {},
   "source": [
    "redo these:\n",
    "(DONE)\n",
    "emb_dim_100_5_folds\n",
    "emb_dim_30_3_layers_5_folds\n",
    "emb_dim_60_3_layers_5_folds"
   ]
  },
  {
   "cell_type": "code",
   "execution_count": 78,
   "id": "changed-chapter",
   "metadata": {},
   "outputs": [
    {
     "name": "stdout",
     "output_type": "stream",
     "text": [
      "en_fr\n"
     ]
    },
    {
     "data": {
      "text/latex": [
       "$\\displaystyle \teuclidean\\ 76.8 \\pm 2.1$"
      ],
      "text/plain": [
       "<IPython.core.display.Math object>"
      ]
     },
     "metadata": {},
     "output_type": "display_data"
    },
    {
     "data": {
      "text/latex": [
       "$\\displaystyle \thyperbolic\\ 78.5 \\pm 7.1$"
      ],
      "text/plain": [
       "<IPython.core.display.Math object>"
      ]
     },
     "metadata": {},
     "output_type": "display_data"
    },
    {
     "name": "stdout",
     "output_type": "stream",
     "text": [
      "fr_en\n"
     ]
    },
    {
     "data": {
      "text/latex": [
       "$\\displaystyle \teuclidean\\ 78.1 \\pm 1.8$"
      ],
      "text/plain": [
       "<IPython.core.display.Math object>"
      ]
     },
     "metadata": {},
     "output_type": "display_data"
    },
    {
     "data": {
      "text/latex": [
       "$\\displaystyle \thyperbolic\\ 77.7 \\pm 9.3$"
      ],
      "text/plain": [
       "<IPython.core.display.Math object>"
      ]
     },
     "metadata": {},
     "output_type": "display_data"
    },
    {
     "name": "stdout",
     "output_type": "stream",
     "text": [
      "en_zh\n"
     ]
    },
    {
     "data": {
      "text/latex": [
       "$\\displaystyle \teuclidean\\ 59.6 \\pm 6.5$"
      ],
      "text/plain": [
       "<IPython.core.display.Math object>"
      ]
     },
     "metadata": {},
     "output_type": "display_data"
    },
    {
     "data": {
      "text/latex": [
       "$\\displaystyle \thyperbolic\\ 60.2 \\pm 12.2$"
      ],
      "text/plain": [
       "<IPython.core.display.Math object>"
      ]
     },
     "metadata": {},
     "output_type": "display_data"
    },
    {
     "name": "stdout",
     "output_type": "stream",
     "text": [
      "zh_en\n"
     ]
    },
    {
     "data": {
      "text/latex": [
       "$\\displaystyle \teuclidean\\ 63.4 \\pm 5.0$"
      ],
      "text/plain": [
       "<IPython.core.display.Math object>"
      ]
     },
     "metadata": {},
     "output_type": "display_data"
    },
    {
     "data": {
      "text/latex": [
       "$\\displaystyle \thyperbolic\\ 61.4 \\pm 12.3$"
      ],
      "text/plain": [
       "<IPython.core.display.Math object>"
      ]
     },
     "metadata": {},
     "output_type": "display_data"
    },
    {
     "name": "stdout",
     "output_type": "stream",
     "text": [
      "en_ja\n"
     ]
    },
    {
     "data": {
      "text/latex": [
       "$\\displaystyle \teuclidean\\ 64.9 \\pm 3.9$"
      ],
      "text/plain": [
       "<IPython.core.display.Math object>"
      ]
     },
     "metadata": {},
     "output_type": "display_data"
    },
    {
     "data": {
      "text/latex": [
       "$\\displaystyle \thyperbolic\\ 63.7 \\pm 9.3$"
      ],
      "text/plain": [
       "<IPython.core.display.Math object>"
      ]
     },
     "metadata": {},
     "output_type": "display_data"
    },
    {
     "name": "stdout",
     "output_type": "stream",
     "text": [
      "ja_en\n"
     ]
    },
    {
     "data": {
      "text/latex": [
       "$\\displaystyle \teuclidean\\ 66.8 \\pm 3.4$"
      ],
      "text/plain": [
       "<IPython.core.display.Math object>"
      ]
     },
     "metadata": {},
     "output_type": "display_data"
    },
    {
     "data": {
      "text/latex": [
       "$\\displaystyle \thyperbolic\\ 62.6 \\pm 11.6$"
      ],
      "text/plain": [
       "<IPython.core.display.Math object>"
      ]
     },
     "metadata": {},
     "output_type": "display_data"
    }
   ],
   "source": [
    "exp_name = 'emb_dim_200_5_folds'\n",
    "sim = 'sqdist'\n",
    "res_dict = {}\n",
    "for cat in ['en_fr', 'fr_en', 'en_zh', 'zh_en', 'en_ja', 'ja_en']:\n",
    "    print(cat)\n",
    "    for space in ['euclidean', 'hyperbolic']:\n",
    "        try:\n",
    "            with open(f'results/dbp15k/{cat}/{space}_{sim}_{exp_name}/5_CV/assessment_results.json') as fp:\n",
    "                res = json.load(fp)\n",
    "                display(Math(f'\\t{space}\\ {res[\"avg_TS_hits1\"]*100:.01f} \\pm {res[\"std_TR_hits1\"]*100:.01f}'))\n",
    "                res_dict[f'{cat}_{space}'] = f'${res[\"avg_TS_hits1\"]*100:.01f} \\pm {res[\"std_TR_hits1\"]*100:.01f}$'\n",
    "        except Exception as e:\n",
    "            print(e)\n",
    "                \n",
    "            \n",
    "with open(f'results/fin/dbp15k_{sim}_{exp_name}.json', 'w') as fp:\n",
    "    json.dump(res_dict, fp)"
   ]
  },
  {
   "cell_type": "code",
   "execution_count": 53,
   "id": "heated-satellite",
   "metadata": {},
   "outputs": [
    {
     "name": "stdout",
     "output_type": "stream",
     "text": [
      "FOLD_1\tFOLD_3\tassessment_results.json\r\n"
     ]
    }
   ],
   "source": [
    "!ls results/dbp15k/en_fr/euclidean_dot_emb_dim_100_3_folds/3_CV/"
   ]
  },
  {
   "cell_type": "code",
   "execution_count": 57,
   "id": "integrated-lighting",
   "metadata": {
    "scrolled": false
   },
   "outputs": [
    {
     "name": "stdout",
     "output_type": "stream",
     "text": [
      "en_fr\n",
      "('Euclidean', None, 30, 1)\n",
      "0.5371683740478067\n",
      "('Euclidean', None, 30, 1)\n",
      "0.5567326212572229\n",
      "('Euclidean', None, 30, 1)\n",
      "0.49159516722115215\n",
      "('Hyperbolic', 1, 30, 1)\n",
      "0.7023903335960073\n",
      "('Hyperbolic', 0.5, 30, 1)\n",
      "0.7702679040448258\n",
      "('Hyperbolic', 0.5, 30, 1)\n",
      "0.657327963579058\n",
      "fr_en\n",
      "('Euclidean', None, 30, 1)\n",
      "0.5380091292134831\n",
      "('Euclidean', None, 30, 1)\n",
      "0.5454226279294303\n",
      "('Euclidean', None, 30, 1)\n",
      "0.4905643816378478\n",
      "('Hyperbolic', 0.5, 30, 1)\n",
      "0.749561095505618\n",
      "('Hyperbolic', 0.5, 30, 1)\n",
      "0.7867989116123936\n",
      "('Hyperbolic', 0.5, 30, 1)\n",
      "0.6424997805670148\n",
      "en_zh\n",
      "('Euclidean', None, 30, 1)\n",
      "0.39077792351932195\n",
      "('Euclidean', None, 30, 1)\n",
      "0.41126021592170314\n",
      "('Euclidean', None, 30, 1)\n",
      "0.3326271186440678\n",
      "('Hyperbolic', 4, 30, 1)\n",
      "0.49914236706689535\n",
      "('Hyperbolic', 0.5, 30, 1)\n",
      "0.5901523559681162\n",
      "('Hyperbolic', 1, 30, 1)\n",
      "0.44077885391444716\n",
      "zh_en\n",
      "('Euclidean', None, 30, 1)\n",
      "0.4064260379720426\n",
      "('Euclidean', None, 30, 1)\n",
      "0.4171708741915293\n",
      "('Euclidean', None, 30, 1)\n",
      "0.34056534890998225\n",
      "('Hyperbolic', 0.5, 30, 1)\n",
      "0.5688504068433131\n",
      "('Hyperbolic', 0.5, 30, 1)\n",
      "0.6026496974754851\n",
      "('Hyperbolic', 4, 30, 1)\n",
      "0.4547825179931157\n",
      "en_ja\n",
      "('Euclidean', None, 30, 1)\n",
      "0.4178082191780822\n",
      "('Euclidean', None, 30, 1)\n",
      "0.4357514952730079\n",
      "('Euclidean', None, 30, 1)\n",
      "0.3565158676569885\n",
      "('Hyperbolic', 0.5, 30, 1)\n",
      "0.5975303878062898\n",
      "('Hyperbolic', 0.5, 30, 1)\n",
      "0.6215512251591743\n",
      "('Hyperbolic', 0.5, 30, 1)\n",
      "0.47863412752001544\n",
      "ja_en\n",
      "('Euclidean', None, 30, 1)\n",
      "0.42642583685088836\n",
      "('Euclidean', None, 30, 1)\n",
      "0.43025424560714637\n",
      "('Euclidean', None, 30, 1)\n",
      "0.37387122104436593\n",
      "('Hyperbolic', 0.5, 30, 1)\n",
      "0.5840777461470502\n",
      "('Hyperbolic', 0.5, 30, 1)\n",
      "0.6223618337096299\n",
      "('Hyperbolic', 0.5, 30, 1)\n",
      "0.4722222222222222\n"
     ]
    }
   ],
   "source": [
    "exp_name = 'emb_dim_30_5_folds'\n",
    "name = 'dbp15k_3_folds_dot_emb_dim_100'\n",
    "for cat in ['en_fr', 'fr_en', 'en_zh', 'zh_en', 'en_ja', 'ja_en']:\n",
    "    print(cat)\n",
    "    for space in ['euclidean', 'hyperbolic']:\n",
    "        for i in [1, 3, 5]:\n",
    "            with open(f'results/dbp15k/{cat}/{space}_dot_{exp_name}/5_CV/FOLD_{i}/winner_config.json', 'r') as fp:\n",
    "                cfg = json.load(fp)\n",
    "            print(f'{cfg[\"space\"], cfg[\"c\"], cfg[\"out_channels\"], cfg[\"num_layers\"]}')\n",
    "            with open(f'results/dbp15k/{cat}/{space}_dot_{exp_name}/5_CV/FOLD_{i}/winner_results.json', 'r') as fp:\n",
    "                res = json.load(fp)\n",
    "            print(res['TS_hits1'])\n",
    "            "
   ]
  }
 ],
 "metadata": {
  "kernelspec": {
   "display_name": "Python 3",
   "language": "python",
   "name": "python3"
  },
  "language_info": {
   "codemirror_mode": {
    "name": "ipython",
    "version": 3
   },
   "file_extension": ".py",
   "mimetype": "text/x-python",
   "name": "python",
   "nbconvert_exporter": "python",
   "pygments_lexer": "ipython3",
   "version": "3.7.9"
  }
 },
 "nbformat": 4,
 "nbformat_minor": 5
}
