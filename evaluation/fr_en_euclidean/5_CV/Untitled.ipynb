{
 "cells": [
  {
   "cell_type": "code",
   "execution_count": 1,
   "metadata": {},
   "outputs": [
    {
     "data": {
      "text/plain": [
       "{'avg_TR_hits1': 0.9614434496952757,\n",
       " 'std_TR_hits1': 0.001671300718341053,\n",
       " 'avg_TS_hits1': 0.9876881175559209,\n",
       " 'std_TS_hits1': 0.002515374623219949,\n",
       " 'avg_TR_hits10': 0.8863597829187716,\n",
       " 'std_TR_hits10': 0.00975454601686925,\n",
       " 'avg_TS_hits10': 0.9761011321404579,\n",
       " 'std_TS_hits10': 0.005480228981617701}"
      ]
     },
     "execution_count": 1,
     "metadata": {},
     "output_type": "execute_result"
    }
   ],
   "source": [
    "import pickle as pkl\n",
    "with open('assessment_results.pkl', 'rb') as fp:\n",
    "    res = pkl.load(fp)\n",
    "res"
   ]
  }
 ],
 "metadata": {
  "kernelspec": {
   "display_name": "Python 3",
   "language": "python",
   "name": "python3"
  },
  "language_info": {
   "codemirror_mode": {
    "name": "ipython",
    "version": 3
   },
   "file_extension": ".py",
   "mimetype": "text/x-python",
   "name": "python",
   "nbconvert_exporter": "python",
   "pygments_lexer": "ipython3",
   "version": "3.7.7"
  }
 },
 "nbformat": 4,
 "nbformat_minor": 4
}
