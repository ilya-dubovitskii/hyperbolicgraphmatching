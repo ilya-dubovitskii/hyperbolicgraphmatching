{
 "cells": [
  {
   "cell_type": "code",
   "execution_count": 8,
   "id": "peripheral-majority",
   "metadata": {},
   "outputs": [],
   "source": [
    "import torch\n",
    "import sys, os\n",
    "sys.path.append(\"..\")\n",
    "from torch_geometric.datasets import DBP15K\n",
    "from matching.models import HyperbolicRelCNN\n",
    "from manifolds.hyperboloid import Hyperboloid\n",
    "from KFoldAssessment import KFoldAssessment\n",
    "from HoldOutSelection import HoldOutSelector\n",
    "from dataset import GraphMatchingDataset"
   ]
  },
  {
   "cell_type": "code",
   "execution_count": 10,
   "id": "impossible-hawaii",
   "metadata": {},
   "outputs": [],
   "source": [
    "device='cuda'"
   ]
  },
  {
   "cell_type": "code",
   "execution_count": 13,
   "id": "editorial-conflict",
   "metadata": {},
   "outputs": [],
   "source": [
    "\n",
    "class SumEmbedding(object):\n",
    "    def __call__(self, data):\n",
    "        data.x1, data.x2 = data.x1.sum(dim=1), data.x2.sum(dim=1)\n",
    "        return data\n",
    "path = os.path.join('..', '..', 'data', 'DBP15K')\n",
    "data = DBP15K(path, 'fr_en', transform=SumEmbedding())[0].to(device)\n",
    "\n",
    "\n",
    "\n",
    "gt = torch.cat([data.train_y, data.test_y], dim=-1)\n",
    "data = GraphMatchingDataset('fr_en', data.x1/15, data.edge_index1, None, data.x2/15, data.edge_index2, None, gt)"
   ]
  },
  {
   "cell_type": "code",
   "execution_count": 14,
   "id": "peripheral-deputy",
   "metadata": {},
   "outputs": [
    {
     "name": "stdout",
     "output_type": "stream",
     "text": [
      "START OF FOLD 1\n",
      "tensor(1.9747, device='cuda:0') 0\n",
      "@1: 0.6871502249533633 0 config done tensor(1.8448, device='cuda:0') 0\n",
      "@1: 0.48140019752002633 1 config done PROCESSING RESULTS\n",
      "Model selection winner for experiment hyp/5_CV/FOLD_1: 1 with hits1 0.687\n"
     ]
    },
    {
     "ename": "KeyboardInterrupt",
     "evalue": "",
     "output_type": "error",
     "traceback": [
      "\u001b[0;31m---------------------------------------------------------------------------\u001b[0m",
      "\u001b[0;31mKeyboardInterrupt\u001b[0m                         Traceback (most recent call last)",
      "\u001b[0;32m<ipython-input-14-2ca1a62c30df>\u001b[0m in \u001b[0;36m<module>\u001b[0;34m\u001b[0m\n\u001b[1;32m     16\u001b[0m \u001b[0mass\u001b[0m \u001b[0;34m=\u001b[0m \u001b[0mKFoldAssessment\u001b[0m\u001b[0;34m(\u001b[0m\u001b[0;36m5\u001b[0m\u001b[0;34m,\u001b[0m \u001b[0;34m'hyp'\u001b[0m\u001b[0;34m,\u001b[0m \u001b[0mparameter_ranges\u001b[0m\u001b[0;34m,\u001b[0m \u001b[0mnum_configs\u001b[0m\u001b[0;34m=\u001b[0m\u001b[0;36m2\u001b[0m\u001b[0;34m)\u001b[0m\u001b[0;34m\u001b[0m\u001b[0;34m\u001b[0m\u001b[0m\n\u001b[1;32m     17\u001b[0m \u001b[0;34m\u001b[0m\u001b[0m\n\u001b[0;32m---> 18\u001b[0;31m \u001b[0mass\u001b[0m\u001b[0;34m.\u001b[0m\u001b[0mrisk_assessment\u001b[0m\u001b[0;34m(\u001b[0m\u001b[0mdata\u001b[0m\u001b[0;34m,\u001b[0m \u001b[0mdevice\u001b[0m\u001b[0;34m=\u001b[0m\u001b[0;34m'cuda'\u001b[0m\u001b[0;34m)\u001b[0m\u001b[0;34m\u001b[0m\u001b[0;34m\u001b[0m\u001b[0m\n\u001b[0m",
      "\u001b[0;32m~/hyperbolicgraphmatching/evaluation/KFoldAssessment.py\u001b[0m in \u001b[0;36mrisk_assessment\u001b[0;34m(self, dataset, device)\u001b[0m\n\u001b[1;32m     78\u001b[0m             \u001b[0;32melse\u001b[0m\u001b[0;34m:\u001b[0m\u001b[0;34m\u001b[0m\u001b[0;34m\u001b[0m\u001b[0m\n\u001b[1;32m     79\u001b[0m                 \u001b[0mprint\u001b[0m\u001b[0;34m(\u001b[0m\u001b[0;34mf'START OF FOLD {k+1}'\u001b[0m\u001b[0;34m)\u001b[0m\u001b[0;34m\u001b[0m\u001b[0;34m\u001b[0m\u001b[0m\n\u001b[0;32m---> 80\u001b[0;31m                 \u001b[0mself\u001b[0m\u001b[0;34m.\u001b[0m\u001b[0m_risk_assessment_helper\u001b[0m\u001b[0;34m(\u001b[0m\u001b[0mdataset\u001b[0m\u001b[0;34m,\u001b[0m \u001b[0mtr_idx\u001b[0m\u001b[0;34m,\u001b[0m \u001b[0mts_idx\u001b[0m\u001b[0;34m,\u001b[0m \u001b[0mfold_dir\u001b[0m\u001b[0;34m,\u001b[0m \u001b[0mdevice\u001b[0m\u001b[0;34m)\u001b[0m\u001b[0;34m\u001b[0m\u001b[0;34m\u001b[0m\u001b[0m\n\u001b[0m\u001b[1;32m     81\u001b[0m \u001b[0;34m\u001b[0m\u001b[0m\n\u001b[1;32m     82\u001b[0m         \u001b[0massessment_results\u001b[0m \u001b[0;34m=\u001b[0m \u001b[0mself\u001b[0m\u001b[0;34m.\u001b[0m\u001b[0mprocess_results\u001b[0m\u001b[0;34m(\u001b[0m\u001b[0;34m)\u001b[0m\u001b[0;34m\u001b[0m\u001b[0;34m\u001b[0m\u001b[0m\n",
      "\u001b[0;32m~/hyperbolicgraphmatching/evaluation/KFoldAssessment.py\u001b[0m in \u001b[0;36m_risk_assessment_helper\u001b[0;34m(self, dataset, tr_idx, ts_idx, fold_dir, device)\u001b[0m\n\u001b[1;32m     90\u001b[0m \u001b[0;34m\u001b[0m\u001b[0m\n\u001b[1;32m     91\u001b[0m         \u001b[0;32mfor\u001b[0m \u001b[0mi\u001b[0m \u001b[0;32min\u001b[0m \u001b[0mrange\u001b[0m\u001b[0;34m(\u001b[0m\u001b[0;36m3\u001b[0m\u001b[0;34m)\u001b[0m\u001b[0;34m:\u001b[0m\u001b[0;34m\u001b[0m\u001b[0;34m\u001b[0m\u001b[0m\n\u001b[0;32m---> 92\u001b[0;31m             \u001b[0mtr_h1\u001b[0m\u001b[0;34m,\u001b[0m \u001b[0mts_h1\u001b[0m\u001b[0;34m,\u001b[0m \u001b[0mtr_h10\u001b[0m\u001b[0;34m,\u001b[0m \u001b[0mts_h10\u001b[0m \u001b[0;34m=\u001b[0m \u001b[0mexp\u001b[0m\u001b[0;34m.\u001b[0m\u001b[0mrun_valid\u001b[0m\u001b[0;34m(\u001b[0m\u001b[0mdataset\u001b[0m\u001b[0;34m,\u001b[0m \u001b[0mtr_idx\u001b[0m\u001b[0;34m,\u001b[0m \u001b[0mts_idx\u001b[0m\u001b[0;34m,\u001b[0m \u001b[0mwinner_config\u001b[0m\u001b[0;34m,\u001b[0m \u001b[0mdevice\u001b[0m\u001b[0;34m)\u001b[0m\u001b[0;34m\u001b[0m\u001b[0;34m\u001b[0m\u001b[0m\n\u001b[0m\u001b[1;32m     93\u001b[0m             \u001b[0mtr_hits1\u001b[0m\u001b[0;34m.\u001b[0m\u001b[0mappend\u001b[0m\u001b[0;34m(\u001b[0m\u001b[0mtr_h1\u001b[0m\u001b[0;34m)\u001b[0m\u001b[0;34m\u001b[0m\u001b[0;34m\u001b[0m\u001b[0m\n\u001b[1;32m     94\u001b[0m             \u001b[0mts_hits1\u001b[0m\u001b[0;34m.\u001b[0m\u001b[0mappend\u001b[0m\u001b[0;34m(\u001b[0m\u001b[0mts_h1\u001b[0m\u001b[0;34m)\u001b[0m\u001b[0;34m\u001b[0m\u001b[0;34m\u001b[0m\u001b[0m\n",
      "\u001b[0;32m~/hyperbolicgraphmatching/evaluation/experiment.py\u001b[0m in \u001b[0;36mrun_valid\u001b[0;34m(self, dataset, tr_idx, val_idx, model_config, device)\u001b[0m\n\u001b[1;32m      5\u001b[0m         \u001b[0mmodel\u001b[0m \u001b[0;34m=\u001b[0m \u001b[0mModelWrapper\u001b[0m\u001b[0;34m(\u001b[0m\u001b[0minput_dim\u001b[0m\u001b[0;34m=\u001b[0m\u001b[0mdataset\u001b[0m\u001b[0;34m.\u001b[0m\u001b[0mx_s\u001b[0m\u001b[0;34m.\u001b[0m\u001b[0msize\u001b[0m\u001b[0;34m(\u001b[0m\u001b[0;34m-\u001b[0m\u001b[0;36m1\u001b[0m\u001b[0;34m)\u001b[0m\u001b[0;34m,\u001b[0m \u001b[0mconfig\u001b[0m\u001b[0;34m=\u001b[0m\u001b[0mmodel_config\u001b[0m\u001b[0;34m,\u001b[0m \u001b[0mdevice\u001b[0m\u001b[0;34m=\u001b[0m\u001b[0mdevice\u001b[0m\u001b[0;34m)\u001b[0m\u001b[0;34m\u001b[0m\u001b[0;34m\u001b[0m\u001b[0m\n\u001b[1;32m      6\u001b[0m         tr_loss, tr_hits1, tr_hits10, vl_loss, vl_hits1, vl_hits10 = model.run(dataset=dataset, \n\u001b[0;32m----> 7\u001b[0;31m                                                                                   tr_idx=tr_idx, val_idx=val_idx)\n\u001b[0m\u001b[1;32m      8\u001b[0m \u001b[0;34m\u001b[0m\u001b[0m\n\u001b[1;32m      9\u001b[0m         \u001b[0;32mreturn\u001b[0m \u001b[0mtr_hits1\u001b[0m\u001b[0;34m,\u001b[0m \u001b[0mtr_hits10\u001b[0m\u001b[0;34m,\u001b[0m \u001b[0mvl_hits1\u001b[0m\u001b[0;34m,\u001b[0m \u001b[0mvl_hits10\u001b[0m\u001b[0;34m\u001b[0m\u001b[0;34m\u001b[0m\u001b[0m\n",
      "\u001b[0;32m~/hyperbolicgraphmatching/evaluation/wrapper.py\u001b[0m in \u001b[0;36mrun\u001b[0;34m(self, dataset, tr_idx, val_idx)\u001b[0m\n\u001b[1;32m     73\u001b[0m             \u001b[0mtr_hits10\u001b[0m \u001b[0;34m=\u001b[0m \u001b[0mmodel\u001b[0m\u001b[0;34m.\u001b[0m\u001b[0mhits_at_k\u001b[0m\u001b[0;34m(\u001b[0m\u001b[0;36m10\u001b[0m\u001b[0;34m,\u001b[0m \u001b[0mS\u001b[0m\u001b[0;34m,\u001b[0m \u001b[0my_train\u001b[0m\u001b[0;34m)\u001b[0m\u001b[0;34m\u001b[0m\u001b[0;34m\u001b[0m\u001b[0m\n\u001b[1;32m     74\u001b[0m \u001b[0;34m\u001b[0m\u001b[0m\n\u001b[0;32m---> 75\u001b[0;31m             \u001b[0mtr_loss\u001b[0m\u001b[0;34m.\u001b[0m\u001b[0mbackward\u001b[0m\u001b[0;34m(\u001b[0m\u001b[0;34m)\u001b[0m\u001b[0;34m\u001b[0m\u001b[0;34m\u001b[0m\u001b[0m\n\u001b[0m\u001b[1;32m     76\u001b[0m             \u001b[0moptimizer\u001b[0m\u001b[0;34m.\u001b[0m\u001b[0mstep\u001b[0m\u001b[0;34m(\u001b[0m\u001b[0;34m)\u001b[0m\u001b[0;34m\u001b[0m\u001b[0;34m\u001b[0m\u001b[0m\n\u001b[1;32m     77\u001b[0m \u001b[0;34m\u001b[0m\u001b[0m\n",
      "\u001b[0;32m/opt/conda/lib/python3.7/site-packages/torch/tensor.py\u001b[0m in \u001b[0;36mbackward\u001b[0;34m(self, gradient, retain_graph, create_graph)\u001b[0m\n\u001b[1;32m    183\u001b[0m                 \u001b[0mproducts\u001b[0m\u001b[0;34m.\u001b[0m \u001b[0mDefaults\u001b[0m \u001b[0mto\u001b[0m\u001b[0;31m \u001b[0m\u001b[0;31m`\u001b[0m\u001b[0;31m`\u001b[0m\u001b[0;32mFalse\u001b[0m\u001b[0;31m`\u001b[0m\u001b[0;31m`\u001b[0m\u001b[0;34m.\u001b[0m\u001b[0;34m\u001b[0m\u001b[0;34m\u001b[0m\u001b[0m\n\u001b[1;32m    184\u001b[0m         \"\"\"\n\u001b[0;32m--> 185\u001b[0;31m         \u001b[0mtorch\u001b[0m\u001b[0;34m.\u001b[0m\u001b[0mautograd\u001b[0m\u001b[0;34m.\u001b[0m\u001b[0mbackward\u001b[0m\u001b[0;34m(\u001b[0m\u001b[0mself\u001b[0m\u001b[0;34m,\u001b[0m \u001b[0mgradient\u001b[0m\u001b[0;34m,\u001b[0m \u001b[0mretain_graph\u001b[0m\u001b[0;34m,\u001b[0m \u001b[0mcreate_graph\u001b[0m\u001b[0;34m)\u001b[0m\u001b[0;34m\u001b[0m\u001b[0;34m\u001b[0m\u001b[0m\n\u001b[0m\u001b[1;32m    186\u001b[0m \u001b[0;34m\u001b[0m\u001b[0m\n\u001b[1;32m    187\u001b[0m     \u001b[0;32mdef\u001b[0m \u001b[0mregister_hook\u001b[0m\u001b[0;34m(\u001b[0m\u001b[0mself\u001b[0m\u001b[0;34m,\u001b[0m \u001b[0mhook\u001b[0m\u001b[0;34m)\u001b[0m\u001b[0;34m:\u001b[0m\u001b[0;34m\u001b[0m\u001b[0;34m\u001b[0m\u001b[0m\n",
      "\u001b[0;32m/opt/conda/lib/python3.7/site-packages/torch/autograd/__init__.py\u001b[0m in \u001b[0;36mbackward\u001b[0;34m(tensors, grad_tensors, retain_graph, create_graph, grad_variables)\u001b[0m\n\u001b[1;32m    125\u001b[0m     Variable._execution_engine.run_backward(\n\u001b[1;32m    126\u001b[0m         \u001b[0mtensors\u001b[0m\u001b[0;34m,\u001b[0m \u001b[0mgrad_tensors\u001b[0m\u001b[0;34m,\u001b[0m \u001b[0mretain_graph\u001b[0m\u001b[0;34m,\u001b[0m \u001b[0mcreate_graph\u001b[0m\u001b[0;34m,\u001b[0m\u001b[0;34m\u001b[0m\u001b[0;34m\u001b[0m\u001b[0m\n\u001b[0;32m--> 127\u001b[0;31m         allow_unreachable=True)  # allow_unreachable flag\n\u001b[0m\u001b[1;32m    128\u001b[0m \u001b[0;34m\u001b[0m\u001b[0m\n\u001b[1;32m    129\u001b[0m \u001b[0;34m\u001b[0m\u001b[0m\n",
      "\u001b[0;31mKeyboardInterrupt\u001b[0m: "
     ]
    }
   ],
   "source": [
    "parameter_ranges = {'space': ['Hyperbolic'],\n",
    "                    'c': [1],\n",
    "                    'in_channels': [50],\n",
    "                    'out_channels': [50],\n",
    "                    'num_layers': [1],\n",
    "                    'cat': [True, False],\n",
    "                    'lin': [True],\n",
    "                    'dropout': [0],\n",
    "                    'sim': ['dot'],\n",
    "                    'k': [10],\n",
    "                    'lr': [3e-4, 1e-3],\n",
    "                    'gamma': [0.7],\n",
    "                    'max_epochs': [200]\n",
    "                   }\n",
    "\n",
    "ass = KFoldAssessment(5, 'hyp', parameter_ranges, num_configs=2)\n",
    "\n",
    "ass.risk_assessment(data, device='cuda')"
   ]
  },
  {
   "cell_type": "code",
   "execution_count": 9,
   "id": "unavailable-border",
   "metadata": {},
   "outputs": [],
   "source": [
    "class Config:\n",
    "    def __init__(self, space, c, in_channels, out_channels,\n",
    "                num_layers, cat, lin, dropout, sim, k, lr, gamma, max_epochs):\n",
    "        self.space = space\n",
    "        self.c = c\n",
    "        self.in_channels = in_channels\n",
    "        self.out_channels = out_channels\n",
    "        self.num_layers = num_layers\n",
    "        self.cat = cat\n",
    "        self.lin = lin\n",
    "        self.dropout = dropout\n",
    "        self.sim = sim\n",
    "        self.k = k\n",
    "        self.lr = lr\n",
    "        self.gamma = gamma\n",
    "        self.max_epochs = max_epochs\n",
    "        \n",
    "    def __repr__(self):\n",
    "        return f'{self.space} {self.c}; in_channels={self.in_channels}, \\\n",
    "        out_channels={self.out_channels}, num_layers={self.num_layers}, sim={self.sim}; cat={self.cat}, \\\n",
    "        lin={self.lin}; k={self.k}, lr={self.lr}, gamma={self.gamma}, max_epochs={self.max_epochs}'\n",
    "        \n",
    "        \n",
    "c = Config(1, 2, 3, 4, 5, 6, 7, 8, 9, 10, 11, 12, 0)"
   ]
  }
 ],
 "metadata": {
  "kernelspec": {
   "display_name": "Python 3",
   "language": "python",
   "name": "python3"
  }
 },
 "nbformat": 4,
 "nbformat_minor": 5
}
